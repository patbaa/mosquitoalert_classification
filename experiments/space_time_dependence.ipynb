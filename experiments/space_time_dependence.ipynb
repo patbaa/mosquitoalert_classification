{
 "cells": [
  {
   "cell_type": "code",
   "execution_count": 1,
   "metadata": {},
   "outputs": [],
   "source": [
    "import os\n",
    "import pandas as pd\n",
    "os.environ[\"CUDA_DEVICE_ORDER\"] = \"PCI_BUS_ID\"\n",
    "os.environ[\"CUDA_VISIBLE_DEVICES\"] = \"0\""
   ]
  },
  {
   "cell_type": "code",
   "execution_count": 2,
   "metadata": {},
   "outputs": [
    {
     "name": "stdout",
     "output_type": "stream",
     "text": [
      "Populating the interactive namespace from numpy and matplotlib\n"
     ]
    }
   ],
   "source": [
    "%pylab inline"
   ]
  },
  {
   "cell_type": "markdown",
   "metadata": {},
   "source": [
    "# Create location metadata"
   ]
  },
  {
   "cell_type": "code",
   "execution_count": 3,
   "metadata": {},
   "outputs": [],
   "source": [
    "from geopy.geocoders import Nominatim\n",
    "geolocator = Nominatim(user_agent=\"user_agent\")\n",
    "def get_country(lat, lon):\n",
    "    pos = str(float(lat)) + ', ' + str(float(lon))\n",
    "    locations = geolocator.reverse(pos, timeout = 10)\n",
    "    return locations.address.split(', ')[-1], locations"
   ]
  },
  {
   "cell_type": "code",
   "execution_count": 4,
   "metadata": {},
   "outputs": [
    {
     "name": "stdout",
     "output_type": "stream",
     "text": [
      "25480\n"
     ]
    },
    {
     "data": {
      "text/html": [
       "<div>\n",
       "<style scoped>\n",
       "    .dataframe tbody tr th:only-of-type {\n",
       "        vertical-align: middle;\n",
       "    }\n",
       "\n",
       "    .dataframe tbody tr th {\n",
       "        vertical-align: top;\n",
       "    }\n",
       "\n",
       "    .dataframe thead th {\n",
       "        text-align: right;\n",
       "    }\n",
       "</style>\n",
       "<table border=\"1\" class=\"dataframe\">\n",
       "  <thead>\n",
       "    <tr style=\"text-align: right;\">\n",
       "      <th></th>\n",
       "      <th>imgNmb</th>\n",
       "      <th>imgId</th>\n",
       "      <th>rprtId</th>\n",
       "      <th>imgDate</th>\n",
       "      <th>imgTime</th>\n",
       "      <th>imgLon</th>\n",
       "      <th>imgLat</th>\n",
       "      <th>imgClass</th>\n",
       "      <th>imgLabel</th>\n",
       "      <th>hidden</th>\n",
       "      <th>year</th>\n",
       "      <th>month</th>\n",
       "    </tr>\n",
       "  </thead>\n",
       "  <tbody>\n",
       "    <tr>\n",
       "      <th>0</th>\n",
       "      <td>2014_000076.png</td>\n",
       "      <td>00d84345-483f-490f-8fc4-0f07a7285918</td>\n",
       "      <td>0780c017-a557-41c9-b130-b8ef158ab841</td>\n",
       "      <td>2014-06-13</td>\n",
       "      <td>21:10:26</td>\n",
       "      <td>2.805427</td>\n",
       "      <td>41.680096</td>\n",
       "      <td>site</td>\n",
       "      <td>notClassified</td>\n",
       "      <td>False</td>\n",
       "      <td>2014</td>\n",
       "      <td>6</td>\n",
       "    </tr>\n",
       "    <tr>\n",
       "      <th>1</th>\n",
       "      <td>2014_000078.png</td>\n",
       "      <td>176b2c12-ffad-477e-94ce-9403f6df0b1b</td>\n",
       "      <td>cca7d429-df0f-4e8a-8f19-5466ec09b307</td>\n",
       "      <td>2014-06-16</td>\n",
       "      <td>23:16:17</td>\n",
       "      <td>2.672815</td>\n",
       "      <td>41.626999999999995</td>\n",
       "      <td>canNotTell</td>\n",
       "      <td>confirmed</td>\n",
       "      <td>False</td>\n",
       "      <td>2014</td>\n",
       "      <td>6</td>\n",
       "    </tr>\n",
       "    <tr>\n",
       "      <th>2</th>\n",
       "      <td>2014_000087.png</td>\n",
       "      <td>f1c6c3c9-f898-49f4-ab0e-58a768f2e490</td>\n",
       "      <td>46c88b49-2202-4940-9b51-1ea6cbc2e41c</td>\n",
       "      <td>2014-06-18</td>\n",
       "      <td>12:39:47</td>\n",
       "      <td>2.104495</td>\n",
       "      <td>41.502213</td>\n",
       "      <td>site</td>\n",
       "      <td>notClassified</td>\n",
       "      <td>False</td>\n",
       "      <td>2014</td>\n",
       "      <td>6</td>\n",
       "    </tr>\n",
       "    <tr>\n",
       "      <th>3</th>\n",
       "      <td>2014_000088.png</td>\n",
       "      <td>e16b3b79-6504-4ca6-a75d-1a84868bd28a</td>\n",
       "      <td>46c88b49-2202-4940-9b51-1ea6cbc2e41c</td>\n",
       "      <td>2014-06-18</td>\n",
       "      <td>12:39:47</td>\n",
       "      <td>2.104495</td>\n",
       "      <td>41.502213</td>\n",
       "      <td>site</td>\n",
       "      <td>notClassified</td>\n",
       "      <td>False</td>\n",
       "      <td>2014</td>\n",
       "      <td>6</td>\n",
       "    </tr>\n",
       "    <tr>\n",
       "      <th>4</th>\n",
       "      <td>2014_000091.png</td>\n",
       "      <td>f2a43106-6ca7-4dc0-a576-3526101ad1e7</td>\n",
       "      <td>56dfd08a-a2f3-42b3-b0ad-dcf89dfce164</td>\n",
       "      <td>2014-06-18</td>\n",
       "      <td>18:13:54</td>\n",
       "      <td>2.7925459999999998</td>\n",
       "      <td>41.970585</td>\n",
       "      <td>Ae.albopictus</td>\n",
       "      <td>probable</td>\n",
       "      <td>False</td>\n",
       "      <td>2014</td>\n",
       "      <td>6</td>\n",
       "    </tr>\n",
       "  </tbody>\n",
       "</table>\n",
       "</div>"
      ],
      "text/plain": [
       "            imgNmb                                 imgId  \\\n",
       "0  2014_000076.png  00d84345-483f-490f-8fc4-0f07a7285918   \n",
       "1  2014_000078.png  176b2c12-ffad-477e-94ce-9403f6df0b1b   \n",
       "2  2014_000087.png  f1c6c3c9-f898-49f4-ab0e-58a768f2e490   \n",
       "3  2014_000088.png  e16b3b79-6504-4ca6-a75d-1a84868bd28a   \n",
       "4  2014_000091.png  f2a43106-6ca7-4dc0-a576-3526101ad1e7   \n",
       "\n",
       "                                 rprtId     imgDate   imgTime  \\\n",
       "0  0780c017-a557-41c9-b130-b8ef158ab841  2014-06-13  21:10:26   \n",
       "1  cca7d429-df0f-4e8a-8f19-5466ec09b307  2014-06-16  23:16:17   \n",
       "2  46c88b49-2202-4940-9b51-1ea6cbc2e41c  2014-06-18  12:39:47   \n",
       "3  46c88b49-2202-4940-9b51-1ea6cbc2e41c  2014-06-18  12:39:47   \n",
       "4  56dfd08a-a2f3-42b3-b0ad-dcf89dfce164  2014-06-18  18:13:54   \n",
       "\n",
       "               imgLon              imgLat       imgClass       imgLabel  \\\n",
       "0            2.805427           41.680096           site  notClassified   \n",
       "1            2.672815  41.626999999999995     canNotTell      confirmed   \n",
       "2            2.104495           41.502213           site  notClassified   \n",
       "3            2.104495           41.502213           site  notClassified   \n",
       "4  2.7925459999999998           41.970585  Ae.albopictus       probable   \n",
       "\n",
       "   hidden  year  month  \n",
       "0   False  2014      6  \n",
       "1   False  2014      6  \n",
       "2   False  2014      6  \n",
       "3   False  2014      6  \n",
       "4   False  2014      6  "
      ]
     },
     "execution_count": 4,
     "metadata": {},
     "output_type": "execute_result"
    }
   ],
   "source": [
    "meta = pd.read_csv('/media/nagy/mosquito_data/all_raw/all/all_imgRef.txt')\n",
    "meta['year'] = [int(i.split('-')[0]) for i in meta.imgDate]\n",
    "meta['month'] = [int(i.split('-')[1]) for i in meta.imgDate]\n",
    "print(len(meta))\n",
    "meta.head()"
   ]
  },
  {
   "cell_type": "code",
   "execution_count": null,
   "metadata": {},
   "outputs": [],
   "source": [
    "c = []\n",
    "l = []\n",
    "for i in range(len(meta)):\n",
    "    try:\n",
    "        country, loc = get_country(meta.imgLat.values[i], meta.imgLon.values[i])\n",
    "    except:\n",
    "        country = 'NA'\n",
    "        loc = 'NA'\n",
    "    c.append(country)\n",
    "    l.append(loc)"
   ]
  },
  {
   "cell_type": "code",
   "execution_count": null,
   "metadata": {},
   "outputs": [],
   "source": [
    "meta['country'] = c\n",
    "meta['location'] = l\n",
    "\n",
    "meta.to_csv('meta_all_raw_w_country_location.csv', index=False)"
   ]
  },
  {
   "cell_type": "markdown",
   "metadata": {},
   "source": [
    "# Load data"
   ]
  },
  {
   "cell_type": "code",
   "execution_count": 5,
   "metadata": {},
   "outputs": [],
   "source": [
    "from collections import Counter"
   ]
  },
  {
   "cell_type": "code",
   "execution_count": 14,
   "metadata": {},
   "outputs": [
    {
     "data": {
      "text/html": [
       "<div>\n",
       "<style scoped>\n",
       "    .dataframe tbody tr th:only-of-type {\n",
       "        vertical-align: middle;\n",
       "    }\n",
       "\n",
       "    .dataframe tbody tr th {\n",
       "        vertical-align: top;\n",
       "    }\n",
       "\n",
       "    .dataframe thead th {\n",
       "        text-align: right;\n",
       "    }\n",
       "</style>\n",
       "<table border=\"1\" class=\"dataframe\">\n",
       "  <thead>\n",
       "    <tr style=\"text-align: right;\">\n",
       "      <th></th>\n",
       "      <th>imgNmb</th>\n",
       "      <th>imgId</th>\n",
       "      <th>rprtId</th>\n",
       "      <th>imgDate</th>\n",
       "      <th>imgTime</th>\n",
       "      <th>imgLon</th>\n",
       "      <th>imgLat</th>\n",
       "      <th>imgClass</th>\n",
       "      <th>imgLabel</th>\n",
       "      <th>hidden</th>\n",
       "      <th>year</th>\n",
       "      <th>month</th>\n",
       "      <th>country</th>\n",
       "      <th>location</th>\n",
       "    </tr>\n",
       "  </thead>\n",
       "  <tbody>\n",
       "    <tr>\n",
       "      <th>396</th>\n",
       "      <td>2015_001648.png</td>\n",
       "      <td>5bcbb8d3-00cb-4a72-8d66-db1a32dfe322</td>\n",
       "      <td>475589FF-12BF-4478-8A28-D4921411B79C</td>\n",
       "      <td>2015-03-24</td>\n",
       "      <td>15:06:08</td>\n",
       "      <td>-0.803021</td>\n",
       "      <td>37.813090</td>\n",
       "      <td>otherSpecies</td>\n",
       "      <td>confirmed</td>\n",
       "      <td>False</td>\n",
       "      <td>2015</td>\n",
       "      <td>3</td>\n",
       "      <td>España</td>\n",
       "      <td>Calle Puerta de Hierro, Colonia Julio Ruiz de ...</td>\n",
       "    </tr>\n",
       "    <tr>\n",
       "      <th>397</th>\n",
       "      <td>2015_001649.png</td>\n",
       "      <td>97be9976-d808-4dff-b4fe-512d31d54643</td>\n",
       "      <td>FD4B9281-E0B8-47A9-BAE0-DA0BB7762DAF</td>\n",
       "      <td>2015-04-07</td>\n",
       "      <td>20:35:14</td>\n",
       "      <td>-5.596513</td>\n",
       "      <td>43.520210</td>\n",
       "      <td>otherSpecies</td>\n",
       "      <td>confirmed</td>\n",
       "      <td>False</td>\n",
       "      <td>2015</td>\n",
       "      <td>4</td>\n",
       "      <td>España</td>\n",
       "      <td>Camín de La Fuente Isabel II, Cabueñes, La Pon...</td>\n",
       "    </tr>\n",
       "    <tr>\n",
       "      <th>399</th>\n",
       "      <td>2015_001651.png</td>\n",
       "      <td>207c45a9-0311-48ab-9719-deb409e5290e</td>\n",
       "      <td>d1fdc171-6496-4c4c-8bf6-92ab88e38ed7</td>\n",
       "      <td>2015-04-08</td>\n",
       "      <td>12:00:48</td>\n",
       "      <td>-5.694574</td>\n",
       "      <td>36.852820</td>\n",
       "      <td>otherSpecies</td>\n",
       "      <td>confirmed</td>\n",
       "      <td>False</td>\n",
       "      <td>2015</td>\n",
       "      <td>4</td>\n",
       "      <td>España</td>\n",
       "      <td>Calle Alta, Bornos, Sierra de Cádiz, Andalucía...</td>\n",
       "    </tr>\n",
       "    <tr>\n",
       "      <th>400</th>\n",
       "      <td>2015_001652.png</td>\n",
       "      <td>8f143315-e402-402f-9bd5-f93e903eaa89</td>\n",
       "      <td>d1fdc171-6496-4c4c-8bf6-92ab88e38ed7</td>\n",
       "      <td>2015-04-08</td>\n",
       "      <td>12:00:48</td>\n",
       "      <td>-5.694574</td>\n",
       "      <td>36.852820</td>\n",
       "      <td>otherSpecies</td>\n",
       "      <td>confirmed</td>\n",
       "      <td>False</td>\n",
       "      <td>2015</td>\n",
       "      <td>4</td>\n",
       "      <td>España</td>\n",
       "      <td>Calle Alta, Bornos, Sierra de Cádiz, Andalucía...</td>\n",
       "    </tr>\n",
       "    <tr>\n",
       "      <th>407</th>\n",
       "      <td>2015_001659.png</td>\n",
       "      <td>465ae4f2-4219-40ee-9847-a1577d9dca5b</td>\n",
       "      <td>83119bdd-421a-4097-9c01-8bd127382d32</td>\n",
       "      <td>2015-04-08</td>\n",
       "      <td>12:13:55</td>\n",
       "      <td>-5.694486</td>\n",
       "      <td>36.852850</td>\n",
       "      <td>otherSpecies</td>\n",
       "      <td>confirmed</td>\n",
       "      <td>False</td>\n",
       "      <td>2015</td>\n",
       "      <td>4</td>\n",
       "      <td>España</td>\n",
       "      <td>Calle Alta, Bornos, Sierra de Cádiz, Andalucía...</td>\n",
       "    </tr>\n",
       "  </tbody>\n",
       "</table>\n",
       "</div>"
      ],
      "text/plain": [
       "              imgNmb                                 imgId  \\\n",
       "396  2015_001648.png  5bcbb8d3-00cb-4a72-8d66-db1a32dfe322   \n",
       "397  2015_001649.png  97be9976-d808-4dff-b4fe-512d31d54643   \n",
       "399  2015_001651.png  207c45a9-0311-48ab-9719-deb409e5290e   \n",
       "400  2015_001652.png  8f143315-e402-402f-9bd5-f93e903eaa89   \n",
       "407  2015_001659.png  465ae4f2-4219-40ee-9847-a1577d9dca5b   \n",
       "\n",
       "                                   rprtId     imgDate   imgTime      imgLon  \\\n",
       "396  475589FF-12BF-4478-8A28-D4921411B79C  2015-03-24  15:06:08   -0.803021   \n",
       "397  FD4B9281-E0B8-47A9-BAE0-DA0BB7762DAF  2015-04-07  20:35:14   -5.596513   \n",
       "399  d1fdc171-6496-4c4c-8bf6-92ab88e38ed7  2015-04-08  12:00:48   -5.694574   \n",
       "400  d1fdc171-6496-4c4c-8bf6-92ab88e38ed7  2015-04-08  12:00:48   -5.694574   \n",
       "407  83119bdd-421a-4097-9c01-8bd127382d32  2015-04-08  12:13:55   -5.694486   \n",
       "\n",
       "         imgLat      imgClass   imgLabel  hidden  year  month country  \\\n",
       "396   37.813090  otherSpecies  confirmed   False  2015      3  España   \n",
       "397   43.520210  otherSpecies  confirmed   False  2015      4  España   \n",
       "399   36.852820  otherSpecies  confirmed   False  2015      4  España   \n",
       "400   36.852820  otherSpecies  confirmed   False  2015      4  España   \n",
       "407   36.852850  otherSpecies  confirmed   False  2015      4  España   \n",
       "\n",
       "                                              location  \n",
       "396  Calle Puerta de Hierro, Colonia Julio Ruiz de ...  \n",
       "397  Camín de La Fuente Isabel II, Cabueñes, La Pon...  \n",
       "399  Calle Alta, Bornos, Sierra de Cádiz, Andalucía...  \n",
       "400  Calle Alta, Bornos, Sierra de Cádiz, Andalucía...  \n",
       "407  Calle Alta, Bornos, Sierra de Cádiz, Andalucía...  "
      ]
     },
     "execution_count": 14,
     "metadata": {},
     "output_type": "execute_result"
    }
   ],
   "source": [
    "data = pd.read_csv('meta_all_raw_w_country_location.csv')\n",
    "data = data[data.imgLabel != 'notClassified']\n",
    "data = data[data.imgClass != 'otherSites']\n",
    "data = data[data.imgClass != 'site']\n",
    "data = data[data.year != 2014]\n",
    "\n",
    "data.head()"
   ]
  },
  {
   "cell_type": "code",
   "execution_count": 15,
   "metadata": {},
   "outputs": [
    {
     "data": {
      "text/plain": [
       "[('España', 8881),\n",
       " ('China 中国', 89),\n",
       " ('Italia', 77),\n",
       " ('United States of America', 61),\n",
       " ('México', 24),\n",
       " ('Peru', 23),\n",
       " ('Argentina', 18),\n",
       " ('France', 17),\n",
       " ('India', 16),\n",
       " ('پاکستان', 8)]"
      ]
     },
     "execution_count": 15,
     "metadata": {},
     "output_type": "execute_result"
    }
   ],
   "source": [
    "Counter(data.groupby('rprtId').first().country).most_common(10)"
   ]
  },
  {
   "cell_type": "code",
   "execution_count": 18,
   "metadata": {},
   "outputs": [],
   "source": [
    "#data = data[data.country == 'España']\n",
    "data['city'] = [i.split(',')[-4] if str(i).count(',')>5 else 'NA' for i in data.location.values]"
   ]
  },
  {
   "cell_type": "code",
   "execution_count": 19,
   "metadata": {},
   "outputs": [
    {
     "data": {
      "text/plain": [
       "Counter({1: 7697, 0: 2231})"
      ]
     },
     "execution_count": 19,
     "metadata": {},
     "output_type": "execute_result"
    }
   ],
   "source": [
    "data['useful'] = [1 if i!='canNotTell' else 0 for i in data.imgClass.values]\n",
    "Counter(data['useful'])"
   ]
  },
  {
   "cell_type": "code",
   "execution_count": 20,
   "metadata": {},
   "outputs": [
    {
     "data": {
      "text/html": [
       "<div>\n",
       "<style scoped>\n",
       "    .dataframe tbody tr th:only-of-type {\n",
       "        vertical-align: middle;\n",
       "    }\n",
       "\n",
       "    .dataframe tbody tr th {\n",
       "        vertical-align: top;\n",
       "    }\n",
       "\n",
       "    .dataframe thead th {\n",
       "        text-align: right;\n",
       "    }\n",
       "</style>\n",
       "<table border=\"1\" class=\"dataframe\">\n",
       "  <thead>\n",
       "    <tr style=\"text-align: right;\">\n",
       "      <th></th>\n",
       "      <th>rprtId</th>\n",
       "      <th>useful</th>\n",
       "      <th>city</th>\n",
       "      <th>year</th>\n",
       "    </tr>\n",
       "  </thead>\n",
       "  <tbody>\n",
       "    <tr>\n",
       "      <th>0</th>\n",
       "      <td>00042354-ffd6-431e-af1e-cecf55e55364</td>\n",
       "      <td>1</td>\n",
       "      <td>Almería</td>\n",
       "      <td>2019</td>\n",
       "    </tr>\n",
       "    <tr>\n",
       "      <th>1</th>\n",
       "      <td>00069ba6-9fc4-4aab-866d-6c48be46d6b5</td>\n",
       "      <td>1</td>\n",
       "      <td>Alacant / Alicante</td>\n",
       "      <td>2015</td>\n",
       "    </tr>\n",
       "    <tr>\n",
       "      <th>2</th>\n",
       "      <td>000A7B86-1C55-4BFD-980B-70AB8AC3BF4A</td>\n",
       "      <td>1</td>\n",
       "      <td>Barcelona</td>\n",
       "      <td>2015</td>\n",
       "    </tr>\n",
       "    <tr>\n",
       "      <th>3</th>\n",
       "      <td>0016ff5e-f028-4a46-8b76-370cd8fa5b79</td>\n",
       "      <td>1</td>\n",
       "      <td>NA</td>\n",
       "      <td>2018</td>\n",
       "    </tr>\n",
       "    <tr>\n",
       "      <th>4</th>\n",
       "      <td>001ba252-9f90-4387-b2e9-18ebc01a7807</td>\n",
       "      <td>0</td>\n",
       "      <td>Murcia</td>\n",
       "      <td>2015</td>\n",
       "    </tr>\n",
       "  </tbody>\n",
       "</table>\n",
       "</div>"
      ],
      "text/plain": [
       "                                 rprtId  useful                 city  year\n",
       "0  00042354-ffd6-431e-af1e-cecf55e55364       1              Almería  2019\n",
       "1  00069ba6-9fc4-4aab-866d-6c48be46d6b5       1   Alacant / Alicante  2015\n",
       "2  000A7B86-1C55-4BFD-980B-70AB8AC3BF4A       1            Barcelona  2015\n",
       "3  0016ff5e-f028-4a46-8b76-370cd8fa5b79       1                   NA  2018\n",
       "4  001ba252-9f90-4387-b2e9-18ebc01a7807       0               Murcia  2015"
      ]
     },
     "execution_count": 20,
     "metadata": {},
     "output_type": "execute_result"
    }
   ],
   "source": [
    "usefuls = data.groupby('rprtId').sum().reset_index()[['rprtId', 'useful']]\n",
    "final = pd.merge(usefuls, data.groupby('rprtId').first().reset_index()[['rprtId', 'city', 'year']], \n",
    "         on='rprtId', how='left')\n",
    "\n",
    "final['useful'] = [int(i!=0) for i in final.useful.values]\n",
    "final.head()"
   ]
  },
  {
   "cell_type": "code",
   "execution_count": 21,
   "metadata": {},
   "outputs": [
    {
     "data": {
      "text/plain": [
       "[(' Barcelona', 2697),\n",
       " (' València / Valencia', 1008),\n",
       " ('NA', 933),\n",
       " (' Málaga', 756),\n",
       " (' Girona', 756)]"
      ]
     },
     "execution_count": 21,
     "metadata": {},
     "output_type": "execute_result"
    }
   ],
   "source": [
    "Counter(final.city).most_common(5)"
   ]
  },
  {
   "cell_type": "code",
   "execution_count": 37,
   "metadata": {},
   "outputs": [
    {
     "data": {
      "text/plain": [
       "array([[' Barcelona', '2697'],\n",
       "       [' València / Valencia', '1008'],\n",
       "       [' Málaga', '756'],\n",
       "       [' Girona', '756']], dtype='<U20')"
      ]
     },
     "execution_count": 37,
     "metadata": {},
     "output_type": "execute_result"
    }
   ],
   "source": [
    "np.array(Counter(final.city).most_common(5))[[0, 1, 3, 4]]"
   ]
  },
  {
   "cell_type": "code",
   "execution_count": 56,
   "metadata": {
    "scrolled": false
   },
   "outputs": [
    {
     "data": {
      "image/png": "[encoded data removed]",
      "text/plain": [
       "<Figure size 1008x720 with 8 Axes>"
      ]
     },
     "metadata": {},
     "output_type": "display_data"
    }
   ],
   "source": [
    "fig, axs = plt.subplots(2, 2, figsize=(14, 10))\n",
    "for idx, (city, cnt) in enumerate(np.array(Counter(final.city).most_common(5))[[0, 1, 3, 4]]):\n",
    "    if city == 'NA':\n",
    "        continue\n",
    "    year_can_tell_fraction = []\n",
    "    n_imgs = []\n",
    "    years = [2015, 2016, 2017, 2018, 2019]\n",
    "    for i in years:\n",
    "        y = final[(final.year == i) & (final.city == city)]\n",
    "        cannottell = len(y[y.useful == 0])/(len(y) + 1e-6)\n",
    "        n_imgs.append(len(y))\n",
    "        year_can_tell_fraction.append(1 - cannottell)\n",
    "\n",
    "        \n",
    "        \n",
    "    if city[:4] == ' Val':\n",
    "        city = 'Valencia'\n",
    "    axs[idx//2, idx%2].set_title(city, fontsize=20, fontweight='bold')\n",
    "    axs[idx//2, idx%2].bar(years, year_can_tell_fraction, color='darkorange')\n",
    "    \n",
    "    if idx%2 == 0:\n",
    "        axs[idx//2, idx%2].set_ylabel('fraction useful reports', fontsize=18, color='darkorange')\n",
    "        axs[idx//2, idx%2].tick_params(axis='y', labelcolor='darkorange', labelsize=18)\n",
    "    else:\n",
    "        axs[idx//2, idx%2].set_yticklabels([])\n",
    "    axs[idx//2, idx%2].tick_params(axis='x', labelsize=16, labelrotation=0)\n",
    "    #axs[idx//2, idx%2].set_xticklabels(['2014', '2015', '2016'])\n",
    "    axs[idx//2, idx%2].set_ylim(0, 1)\n",
    "    \n",
    "\n",
    "    ax2 = axs[idx//2, idx%2].twinx()\n",
    "    ax2.plot(years, n_imgs, 'o-', c='darkgreen', lw=5, ms=15)\n",
    "    \n",
    "    if idx%2 == 1:\n",
    "        ax2.set_ylabel('number of reports', fontsize=18, color='darkgreen')\n",
    "        ax2.tick_params(axis='y', labelcolor='darkgreen', labelsize=18)\n",
    "    else:\n",
    "        ax2.set_yticklabels([])\n",
    "        ax2.tick_params(axis='y', labelcolor='darkgreen', labelsize=18)\n",
    "    #else:\n",
    "    #    ax2.set_ticklabels([], [])\n",
    "    ax2.set_ylim(0, 810)\n",
    "\n",
    "    ax2.grid()\n",
    "#plt.tight_layout(pad=0.1, w_pad=0., h_pad=.0)\n",
    "plt.show()"
   ]
  },
  {
   "cell_type": "code",
   "execution_count": 26,
   "metadata": {},
   "outputs": [
    {
     "name": "stdout",
     "output_type": "stream",
     "text": [
      "2015 - 0.83 %\n",
      "2016 - 0.79 %\n",
      "2017 - 0.73 %\n",
      "2018 - 0.72 %\n",
      "2019 - 0.77 %\n"
     ]
    }
   ],
   "source": [
    "for y in [2015, 2016, 2017, 2018, 2019]:\n",
    "    tmp = final[final.year == y]\n",
    "    print(y, '-' ,  np.round(tmp.useful.mean(), 2), '%')"
   ]
  }
 ],
 "metadata": {
  "kernelspec": {
   "display_name": "Python 3",
   "language": "python",
   "name": "python3"
  },
  "language_info": {
   "codemirror_mode": {
    "name": "ipython",
    "version": 3
   },
   "file_extension": ".py",
   "mimetype": "text/x-python",
   "name": "python",
   "nbconvert_exporter": "python",
   "pygments_lexer": "ipython3",
   "version": "3.6.10"
  }
 },
 "nbformat": 4,
 "nbformat_minor": 4
}
